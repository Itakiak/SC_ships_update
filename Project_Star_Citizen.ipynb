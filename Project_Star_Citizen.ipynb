{
 "cells": [
  {
   "cell_type": "code",
   "execution_count": 3,
   "metadata": {},
   "outputs": [
    {
     "name": "stdout",
     "output_type": "stream",
     "text": [
      "Collecting tqdm\n",
      "  Downloading tqdm-4.66.5-py3-none-any.whl.metadata (57 kB)\n",
      "Requirement already satisfied: colorama in c:\\users\\cleme\\appdata\\roaming\\python\\python312\\site-packages (from tqdm) (0.4.6)\n",
      "Downloading tqdm-4.66.5-py3-none-any.whl (78 kB)\n",
      "Installing collected packages: tqdm\n",
      "Successfully installed tqdm-4.66.5\n"
     ]
    }
   ],
   "source": [
    "!pip install tqdm"
   ]
  },
  {
   "cell_type": "code",
   "execution_count": 1,
   "metadata": {},
   "outputs": [
    {
     "name": "stdout",
     "output_type": "stream",
     "text": [
      "<class 'pandas.core.frame.DataFrame'>\n"
     ]
    }
   ],
   "source": [
    "import pandas as pd\n",
    "import requests\n",
    "\n",
    "# URL de base de l'API\n",
    "base_url = \"https://api.star-citizen.wiki/api/v3/vehicles?page=\"\n",
    "\n",
    "# Récupérer les données de toutes les pages, mais seulement les noms\n",
    "all_data = [\n",
    "    [item.get(\"name\") for item in requests.get(f\"{base_url}{page}\").json().get(\"data\", [])]\n",
    "    for page in range(1, 16)\n",
    "    if requests.get(f\"{base_url}{page}\").status_code == 200\n",
    "]\n",
    "\n",
    "# Aplatir la liste des listes\n",
    "all_data = [name for sublist in all_data for name in sublist]\n",
    "\n",
    "# Créer une DataFrame Pandas avec toutes les données\n",
    "ships = pd.DataFrame(all_data, columns=[\"name\"])\n",
    "print(type(ships))"
   ]
  },
  {
   "cell_type": "code",
   "execution_count": 4,
   "metadata": {},
   "outputs": [
    {
     "name": "stderr",
     "output_type": "stream",
     "text": [
      "Récupération des caractéristiques:  18%|█▊        | 39/220 [00:22<02:05,  1.45vaisseau/s]"
     ]
    },
    {
     "name": "stdout",
     "output_type": "stream",
     "text": [
      "Skipping C8 Pisces due to known issue.\n"
     ]
    },
    {
     "name": "stderr",
     "output_type": "stream",
     "text": [
      "Récupération des caractéristiques:  19%|█▉        | 42/220 [00:23<01:32,  1.92vaisseau/s]"
     ]
    },
    {
     "name": "stdout",
     "output_type": "stream",
     "text": [
      "Skipping Carrack Expedition w/C8X due to known issue.\n",
      "Skipping Carrack w/C8X due to known issue.\n"
     ]
    },
    {
     "name": "stderr",
     "output_type": "stream",
     "text": [
      "Récupération des caractéristiques: 100%|██████████| 220/220 [01:52<00:00,  1.95vaisseau/s]\n",
      "C:\\Users\\cleme\\AppData\\Local\\Temp\\ipykernel_13308\\3564127273.py:67: FutureWarning: Setting an item of incompatible dtype is deprecated and will raise an error in a future version of pandas. Value '/' has dtype incompatible with float64, please explicitly cast to a compatible dtype first.\n",
      "  df.fillna(\"/\", inplace=True)\n"
     ]
    },
    {
     "name": "stdout",
     "output_type": "stream",
     "text": [
      "Remplissage des NaN\n"
     ]
    },
    {
     "name": "stderr",
     "output_type": "stream",
     "text": [
      "C:\\Users\\cleme\\AppData\\Local\\Temp\\ipykernel_13308\\3564127273.py:75: DeprecationWarning: The order of arguments in worksheet.update() has changed. Please pass values first and range_name secondor used named arguments (range_name=, values=)\n",
      "  worksheet.update('A1', data_to_insert)  # Insère les données à partir de la cellule A1\n"
     ]
    },
    {
     "data": {
      "text/plain": [
       "{'spreadsheetId': '1GJH3QmXWMRwRt0_VuUA6e4C-s23h7SlibBCHXAldYGc',\n",
       " 'updatedRange': \"'Feuille 1'!A1:N218\",\n",
       " 'updatedRows': 218,\n",
       " 'updatedColumns': 14,\n",
       " 'updatedCells': 3052}"
      ]
     },
     "execution_count": 4,
     "metadata": {},
     "output_type": "execute_result"
    }
   ],
   "source": [
    "import pandas as pd\n",
    "import requests\n",
    "import gspread\n",
    "from oauth2client.service_account import ServiceAccountCredentials\n",
    "from tqdm import tqdm  # Importer tqdm\n",
    "\n",
    "def get_vehicle_characteristics(name):\n",
    "    url = f\"https://api.star-citizen.wiki/api/v3/vehicles/{name}?include=components,shops\"\n",
    "    response = requests.get(url)\n",
    "    if response.status_code == 200:\n",
    "        return response.json()  # Retourne les données sous forme de dictionnaire\n",
    "    else:\n",
    "        print(f\"Erreur lors de la récupération des données pour {name}: {response.status_code}\")\n",
    "        return None\n",
    "\n",
    "# Liste pour stocker les données des caractéristiques des vaisseaux\n",
    "vehicle_names = ships['name'].tolist()  # Assure-toi que 'ships' est un DataFrame\n",
    "\n",
    "vehicle_data = []\n",
    "\n",
    "# Utiliser tqdm pour afficher la barre de progression\n",
    "for name in tqdm(vehicle_names, desc=\"Récupération des caractéristiques\", unit=\"vaisseau\"):\n",
    "    # Gérer les exceptions pour les vaisseaux spécifiques\n",
    "    if name in [\"Carrack Expedition w/C8X\", \"Carrack w/C8X\", \"C8 Pisces\"]:\n",
    "        print(f\"Skipping {name} due to known issue.\")\n",
    "        continue\n",
    "    \n",
    "    characteristics = get_vehicle_characteristics(name)\n",
    "    if characteristics and \"data\" in characteristics:\n",
    "        # Extraire les données de la clé \"data\"\n",
    "        data = characteristics[\"data\"]\n",
    "        \n",
    "        # Vérifier si les champs nécessaires existent dans les données\n",
    "        vehicle_info = {\n",
    "            \"Nom du vaisseau\": data.get(\"name\"),\n",
    "            \"HP vaisseau\": data.get(\"health\"),\n",
    "            \"HP bouclier\": data.get(\"shield_hp\"),\n",
    "            \"Capacité de cargo\": data.get(\"cargo_capacity\"),\n",
    "            \"Capacité réservoir quantum\": data.get(\"quantum\", {}).get(\"quantum_fuel_capacity\"),\n",
    "            \"crew minimum\": data.get(\"crew\", {}).get(\"min\"),\n",
    "            \"crew maximum\": data.get(\"crew\", {}).get(\"max\"),\n",
    "            \"Type\": data.get(\"type\", {}).get(\"en_EN\"),\n",
    "            \"Classe\": data.get(\"production_status\", {}).get(\"en_EN\"),\n",
    "            \"Classe de taille\": data.get(\"size_class\"),\n",
    "            \"Vitesse SCM\": data.get(\"speed\", {}).get(\"scm\"),\n",
    "            \"Vitesse max\": data.get(\"speed\", {}).get(\"max\"),\n",
    "            \"Prix de vente\": data.get(\"msrp\"),  # Prix\n",
    "            \"lien du pledge\": data.get(\"pledge_url\")\n",
    "        }\n",
    "        vehicle_data.append(vehicle_info)\n",
    "    else:\n",
    "        print(f\"Pas de caractéristiques valides pour {name}\")\n",
    "\n",
    "# Créer un nouveau DataFrame avec les données collectées\n",
    "df = pd.DataFrame(vehicle_data)\n",
    "\n",
    "# Charger les informations d'identification\n",
    "scope = [\"https://spreadsheets.google.com/feeds\", \"https://www.googleapis.com/auth/drive\"]\n",
    "creds = ServiceAccountCredentials.from_json_keyfile_name('star-citizen-ships-d2b0ff5a2ca4.json', scope)\n",
    "client = gspread.authorize(creds)\n",
    "\n",
    "# Ouvrir le Google Sheet\n",
    "spreadsheet = client.open(\"Star citizen - ships\")  # Remplace par le nom de ton fichier Google Sheet\n",
    "worksheet = spreadsheet.get_worksheet(0)  # Utilise la première feuille\n",
    "\n",
    "# Remplissage des NaN\n",
    "df.fillna(\"/\", inplace=True)\n",
    "print(\"Remplissage des NaN\")\n",
    "\n",
    "# Convertir le DataFrame en liste de listes\n",
    "data_to_insert = [df.columns.values.tolist()] + df.values.tolist()  # Ajouter les noms de colonnes\n",
    "\n",
    "# Insérer les données dans la feuille Google Sheet\n",
    "worksheet.clear()  # Efface les données existantes si tu veux partir de zéro\n",
    "worksheet.update('A1', data_to_insert)  # Insère les données à partir de la cellule A1"
   ]
  }
 ],
 "metadata": {
  "kernelspec": {
   "display_name": "Python 3",
   "language": "python",
   "name": "python3"
  },
  "language_info": {
   "codemirror_mode": {
    "name": "ipython",
    "version": 3
   },
   "file_extension": ".py",
   "mimetype": "text/x-python",
   "name": "python",
   "nbconvert_exporter": "python",
   "pygments_lexer": "ipython3",
   "version": "3.12.1"
  }
 },
 "nbformat": 4,
 "nbformat_minor": 2
}
