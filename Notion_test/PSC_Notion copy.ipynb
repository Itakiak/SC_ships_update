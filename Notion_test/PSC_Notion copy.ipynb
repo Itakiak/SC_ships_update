{
 "cells": [
  {
   "cell_type": "code",
   "execution_count": 4,
   "metadata": {},
   "outputs": [
    {
     "name": "stdout",
     "output_type": "stream",
     "text": [
      "Aucune base de données trouvée.\n"
     ]
    }
   ],
   "source": [
    "import sys\n",
    "from notion_client import Client\n",
    "\n",
    "# Configuration Notion\n",
    "notion_token = \"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\"\n",
    "notion = Client(auth=notion_token)\n",
    "\n",
    "# Récupération des bases de données\n",
    "try:\n",
    "    databases = notion.search(filter={\"property\": \"object\", \"value\": \"database\"}).get(\"results\")\n",
    "    \n",
    "    if not databases:\n",
    "        print(\"Aucune base de données trouvée.\")\n",
    "    else:\n",
    "        for db in databases:\n",
    "            title = db['title'][0]['plain_text'] if db['title'] else \"Sans titre\"\n",
    "            print(f\"Nom: {title}, ID: {db['id']}\")\n",
    "except Exception as e:\n",
    "    print(f\"Erreur lors de la récupération des bases de données : {e}\")\n"
   ]
  }
 ],
 "metadata": {
  "kernelspec": {
   "display_name": "Python 3",
   "language": "python",
   "name": "python3"
  },
  "language_info": {
   "codemirror_mode": {
    "name": "ipython",
    "version": 3
   },
   "file_extension": ".py",
   "mimetype": "text/x-python",
   "name": "python",
   "nbconvert_exporter": "python",
   "pygments_lexer": "ipython3",
   "version": "3.12.1"
  }
 },
 "nbformat": 4,
 "nbformat_minor": 2
}
